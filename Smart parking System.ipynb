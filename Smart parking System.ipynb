{
  "cells": [
    {
      "cell_type": "code",
      "execution_count": null,
      "metadata": {
        "id": "889vawSvCgYw"
      },
      "outputs": [],
      "source": [
        "!wget https://github.com/pjreddie/darknet/blob/master/cfg/yolov3.cfg?raw=true -O yolov3.cfg\n",
        "!wget https://pjreddie.com/media/files/yolov3.weights\n",
        "!wget https://github.com/pjreddie/darknet/blob/master/data/coco.names?raw=true -O coco.names"
      ]
    },
    {
      "cell_type": "code",
      "execution_count": null,
      "metadata": {
        "id": "71YiOS0fCxg7"
      },
      "outputs": [],
      "source": [
        "import cv2\n",
        "import numpy as np\n",
        "from google.colab.patches import cv2_imshow"
      ]
    },
    {
      "cell_type": "code",
      "execution_count": null,
      "metadata": {
        "id": "jnLWE17FRDi6"
      },
      "outputs": [],
      "source": [
        "net = cv2.dnn.readNet(\"yolov3.weights\", \"yolov3.cfg\")\n",
        "classes = []\n",
        "with open(\"coco.names\", \"r\") as f:\n",
        "    classes = [line.strip() for line in f.readlines()]\n",
        "layer_names = net.getUnconnectedOutLayersNames()"
      ]
    },
    {
      "cell_type": "code",
      "execution_count": null,
      "metadata": {
        "id": "yQKnkVNmRIAw"
      },
      "outputs": [],
      "source": [
        "from IPython.display import clear_output, display, Image\n",
        "import PIL.Image\n",
        "\n",
        "def showarray(a, fmt='jpeg'):\n",
        "    a = np.uint8(np.clip(a, 0, 255))\n",
        "    f = PIL.Image.fromarray(a)\n",
        "    display(Image(data=fmt_formatter(f, fmt)))\n",
        "\n",
        "def fmt_formatter(data, fmt):\n",
        "    from IPython.display import display\n",
        "    import io\n",
        "    str_buf = io.BytesIO()\n",
        "    data.save(str_buf, format=fmt)\n",
        "    return str_buf.getvalue()\n",
        "\n",
        "def detect_objects(video_path):\n",
        "    cap = cv2.VideoCapture(video_path)\n",
        "\n",
        "    while True:\n",
        "        ret, frame = cap.read()\n",
        "        if not ret:\n",
        "            break\n",
        "\n",
        "        height, width, _ = frame.shape\n",
        "        blob = cv2.dnn.blobFromImage(frame, 0.00392, (416, 416), (0, 0, 0), True, crop=False)\n",
        "        net.setInput(blob)\n",
        "       outs = net.forward(layer_names)\n",
        "\n",
        "        class_ids = []\n",
        "        confidences = []\n",
        "        boxes = []\n",
        "\n",
        "        for out in outs:\n",
        "            for detection in out:\n",
        "                scores = detection[5:]\n",
        "                class_id = np.argmax(scores)\n",
        "                confidence = scores[class_id]\n",
        "\n",
        "                if confidence > 0.5 and (class_id == 2 or class_id == 0):\n",
        "                    center_x = int(detection[0] * width)\n",
        "                    center_y = int(detection[1] * height)\n",
        "                    w = int(detection[2] * width)\n",
        "                    h = int(detection[3] * height)\n",
        "\n",
        "                    x = int(center_x - w / 2)\n",
        "                    y = int(center_y - h / 2)\n",
        "\n",
        "                    class_ids.append(class_id)\n",
        "                    confidences.append(float(confidence))\n",
        "                    boxes.append([x, y, w, h])\n",
        "\n",
        "        indexes = cv2.dnn.NMSBoxes(boxes, confidences, 0.5, 0.4)\n",
        "\n",
        "        for i in range(len(boxes)):\n",
        "            x, y, w, h = boxes[i]\n",
        "\n",
        "            if i in indexes:\n",
        "                if class_ids[i] == 2:  # Car\n",
        "                    cv2.rectangle(frame, (x, y), (x + w, y + h), (0, 255, 0), 2)\n",
        "                elif class_ids[i] == 0:  # Person (Assuming person as an empty space)\n",
        "                    cv2.rectangle(frame, (x, y), (x + w, y + h), (255, 0, 0), 2)\n",
        "                else:\n",
        "                    # Assume anything other than car or person as empty space\n",
        "                    cv2.rectangle(frame, (x, y), (x + w, y + h), (0, 0, 255), 2)\n",
        "\n",
        "        showarray(frame)\n",
        "\n",
        "# Replace 'videoplayback.mp4' with your video file path\n",
        "detect_objects('/content/parkinglot_1_480p.mp4')"
      ]
    },
    {
      "cell_type": "code",
      "source": [],
      "metadata": {
        "id": "XE8FVMLOd1LX"
      },
      "execution_count": null,
      "outputs": []
    }
  ],
  "metadata": {
    "colab": {
      "provenance": []
    },
    "kernelspec": {
      "display_name": "Python 3",
      "name": "python3"
    },
    "language_info": {
      "name": "python"
    }
  },
  "nbformat": 4,
  "nbformat_minor": 0
}